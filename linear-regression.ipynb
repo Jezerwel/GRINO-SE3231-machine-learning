{
 "cells": [
  {
   "cell_type": "code",
   "execution_count": 1,
   "metadata": {},
   "outputs": [],
   "source": [
    "import numpy as np\n",
    "import pandas as pd\n",
    "import matplotlib.pyplot as plt\n",
    "import seaborn as sns\n",
    "from sklearn.model_selection import train_test_split\n",
    "from sklearn.linear_model import LinearRegression\n",
    "from sklearn.metrics import mean_squared_error, r2_score"
   ]
  },
  {
   "cell_type": "code",
   "execution_count": 2,
   "metadata": {},
   "outputs": [],
   "source": [
    "df = pd.read_csv(\"csv/gameandgrade.csv\")"
   ]
  },
  {
   "cell_type": "code",
   "execution_count": 3,
   "metadata": {},
   "outputs": [
    {
     "data": {
      "text/html": [
       "<div>\n",
       "<style scoped>\n",
       "    .dataframe tbody tr th:only-of-type {\n",
       "        vertical-align: middle;\n",
       "    }\n",
       "\n",
       "    .dataframe tbody tr th {\n",
       "        vertical-align: top;\n",
       "    }\n",
       "\n",
       "    .dataframe thead th {\n",
       "        text-align: right;\n",
       "    }\n",
       "</style>\n",
       "<table border=\"1\" class=\"dataframe\">\n",
       "  <thead>\n",
       "    <tr style=\"text-align: right;\">\n",
       "      <th></th>\n",
       "      <th>Sex</th>\n",
       "      <th>School Code</th>\n",
       "      <th>Playing Years</th>\n",
       "      <th>Playing Often</th>\n",
       "      <th>Playing Hours</th>\n",
       "      <th>Playing Games</th>\n",
       "      <th>Parent Revenue</th>\n",
       "      <th>Father Education</th>\n",
       "      <th>Mother Education</th>\n",
       "      <th>Grade</th>\n",
       "    </tr>\n",
       "  </thead>\n",
       "  <tbody>\n",
       "    <tr>\n",
       "      <th>0</th>\n",
       "      <td>0</td>\n",
       "      <td>1</td>\n",
       "      <td>1</td>\n",
       "      <td>2</td>\n",
       "      <td>1</td>\n",
       "      <td>1</td>\n",
       "      <td>4</td>\n",
       "      <td>4</td>\n",
       "      <td>5</td>\n",
       "      <td>77.50</td>\n",
       "    </tr>\n",
       "    <tr>\n",
       "      <th>1</th>\n",
       "      <td>1</td>\n",
       "      <td>1</td>\n",
       "      <td>1</td>\n",
       "      <td>3</td>\n",
       "      <td>1</td>\n",
       "      <td>1</td>\n",
       "      <td>1</td>\n",
       "      <td>3</td>\n",
       "      <td>3</td>\n",
       "      <td>83.00</td>\n",
       "    </tr>\n",
       "    <tr>\n",
       "      <th>2</th>\n",
       "      <td>0</td>\n",
       "      <td>1</td>\n",
       "      <td>0</td>\n",
       "      <td>0</td>\n",
       "      <td>0</td>\n",
       "      <td>0</td>\n",
       "      <td>1</td>\n",
       "      <td>3</td>\n",
       "      <td>3</td>\n",
       "      <td>80.00</td>\n",
       "    </tr>\n",
       "    <tr>\n",
       "      <th>3</th>\n",
       "      <td>0</td>\n",
       "      <td>1</td>\n",
       "      <td>3</td>\n",
       "      <td>5</td>\n",
       "      <td>1</td>\n",
       "      <td>1</td>\n",
       "      <td>2</td>\n",
       "      <td>2</td>\n",
       "      <td>3</td>\n",
       "      <td>45.00</td>\n",
       "    </tr>\n",
       "    <tr>\n",
       "      <th>4</th>\n",
       "      <td>1</td>\n",
       "      <td>1</td>\n",
       "      <td>1</td>\n",
       "      <td>1</td>\n",
       "      <td>2</td>\n",
       "      <td>1</td>\n",
       "      <td>1</td>\n",
       "      <td>3</td>\n",
       "      <td>4</td>\n",
       "      <td>85.00</td>\n",
       "    </tr>\n",
       "  </tbody>\n",
       "</table>\n",
       "</div>"
      ],
      "text/plain": [
       "   Sex  School Code  Playing Years  Playing Often  Playing Hours  \\\n",
       "0    0            1              1              2              1   \n",
       "1    1            1              1              3              1   \n",
       "2    0            1              0              0              0   \n",
       "3    0            1              3              5              1   \n",
       "4    1            1              1              1              2   \n",
       "\n",
       "   Playing Games  Parent Revenue  Father Education  Mother Education  Grade  \n",
       "0              1               4                 4                 5  77.50  \n",
       "1              1               1                 3                 3  83.00  \n",
       "2              0               1                 3                 3  80.00  \n",
       "3              1               2                 2                 3  45.00  \n",
       "4              1               1                 3                 4  85.00  "
      ]
     },
     "execution_count": 3,
     "metadata": {},
     "output_type": "execute_result"
    }
   ],
   "source": [
    "df.head()"
   ]
  },
  {
   "cell_type": "code",
   "execution_count": 4,
   "metadata": {},
   "outputs": [
    {
     "data": {
      "text/plain": [
       "np.int64(16)"
      ]
     },
     "execution_count": 4,
     "metadata": {},
     "output_type": "execute_result"
    }
   ],
   "source": [
    "df.duplicated().sum()"
   ]
  },
  {
   "cell_type": "code",
   "execution_count": 5,
   "metadata": {},
   "outputs": [],
   "source": [
    "df = df[df.duplicated()== False]"
   ]
  },
  {
   "cell_type": "code",
   "execution_count": 6,
   "metadata": {},
   "outputs": [
    {
     "data": {
      "text/plain": [
       "np.int64(0)"
      ]
     },
     "execution_count": 6,
     "metadata": {},
     "output_type": "execute_result"
    }
   ],
   "source": [
    "df.duplicated().sum()"
   ]
  },
  {
   "cell_type": "code",
   "execution_count": 7,
   "metadata": {},
   "outputs": [],
   "source": [
    "df[\"Grade\"] = pd.to_numeric(df[\"Grade\"], errors=\"coerce\")"
   ]
  },
  {
   "cell_type": "code",
   "execution_count": 8,
   "metadata": {},
   "outputs": [
    {
     "data": {
      "text/html": [
       "<div>\n",
       "<style scoped>\n",
       "    .dataframe tbody tr th:only-of-type {\n",
       "        vertical-align: middle;\n",
       "    }\n",
       "\n",
       "    .dataframe tbody tr th {\n",
       "        vertical-align: top;\n",
       "    }\n",
       "\n",
       "    .dataframe thead th {\n",
       "        text-align: right;\n",
       "    }\n",
       "</style>\n",
       "<table border=\"1\" class=\"dataframe\">\n",
       "  <thead>\n",
       "    <tr style=\"text-align: right;\">\n",
       "      <th></th>\n",
       "      <th>Sex</th>\n",
       "      <th>School Code</th>\n",
       "      <th>Playing Years</th>\n",
       "      <th>Playing Often</th>\n",
       "      <th>Playing Hours</th>\n",
       "      <th>Playing Games</th>\n",
       "      <th>Parent Revenue</th>\n",
       "      <th>Father Education</th>\n",
       "      <th>Mother Education</th>\n",
       "      <th>Grade</th>\n",
       "    </tr>\n",
       "  </thead>\n",
       "  <tbody>\n",
       "    <tr>\n",
       "      <th>count</th>\n",
       "      <td>754.000000</td>\n",
       "      <td>754.000000</td>\n",
       "      <td>754.000000</td>\n",
       "      <td>754.000000</td>\n",
       "      <td>754.000000</td>\n",
       "      <td>754.000000</td>\n",
       "      <td>754.000000</td>\n",
       "      <td>754.000000</td>\n",
       "      <td>754.000000</td>\n",
       "      <td>753.000000</td>\n",
       "    </tr>\n",
       "    <tr>\n",
       "      <th>mean</th>\n",
       "      <td>0.509284</td>\n",
       "      <td>4.885942</td>\n",
       "      <td>1.618037</td>\n",
       "      <td>2.290451</td>\n",
       "      <td>1.519894</td>\n",
       "      <td>0.721485</td>\n",
       "      <td>1.867374</td>\n",
       "      <td>3.700265</td>\n",
       "      <td>3.385942</td>\n",
       "      <td>77.134834</td>\n",
       "    </tr>\n",
       "    <tr>\n",
       "      <th>std</th>\n",
       "      <td>0.500246</td>\n",
       "      <td>2.993173</td>\n",
       "      <td>1.402897</td>\n",
       "      <td>1.915683</td>\n",
       "      <td>1.334098</td>\n",
       "      <td>0.451516</td>\n",
       "      <td>1.049086</td>\n",
       "      <td>1.168568</td>\n",
       "      <td>1.165399</td>\n",
       "      <td>16.415164</td>\n",
       "    </tr>\n",
       "    <tr>\n",
       "      <th>min</th>\n",
       "      <td>0.000000</td>\n",
       "      <td>1.000000</td>\n",
       "      <td>0.000000</td>\n",
       "      <td>0.000000</td>\n",
       "      <td>0.000000</td>\n",
       "      <td>0.000000</td>\n",
       "      <td>0.000000</td>\n",
       "      <td>0.000000</td>\n",
       "      <td>0.000000</td>\n",
       "      <td>33.000000</td>\n",
       "    </tr>\n",
       "    <tr>\n",
       "      <th>25%</th>\n",
       "      <td>0.000000</td>\n",
       "      <td>2.000000</td>\n",
       "      <td>0.000000</td>\n",
       "      <td>0.000000</td>\n",
       "      <td>0.000000</td>\n",
       "      <td>0.000000</td>\n",
       "      <td>1.000000</td>\n",
       "      <td>3.000000</td>\n",
       "      <td>2.000000</td>\n",
       "      <td>65.000000</td>\n",
       "    </tr>\n",
       "    <tr>\n",
       "      <th>50%</th>\n",
       "      <td>1.000000</td>\n",
       "      <td>4.000000</td>\n",
       "      <td>1.000000</td>\n",
       "      <td>2.000000</td>\n",
       "      <td>1.000000</td>\n",
       "      <td>1.000000</td>\n",
       "      <td>2.000000</td>\n",
       "      <td>4.000000</td>\n",
       "      <td>3.000000</td>\n",
       "      <td>80.000000</td>\n",
       "    </tr>\n",
       "    <tr>\n",
       "      <th>75%</th>\n",
       "      <td>1.000000</td>\n",
       "      <td>8.000000</td>\n",
       "      <td>3.000000</td>\n",
       "      <td>4.000000</td>\n",
       "      <td>2.000000</td>\n",
       "      <td>1.000000</td>\n",
       "      <td>3.000000</td>\n",
       "      <td>4.000000</td>\n",
       "      <td>4.000000</td>\n",
       "      <td>90.000000</td>\n",
       "    </tr>\n",
       "    <tr>\n",
       "      <th>max</th>\n",
       "      <td>1.000000</td>\n",
       "      <td>11.000000</td>\n",
       "      <td>4.000000</td>\n",
       "      <td>5.000000</td>\n",
       "      <td>5.000000</td>\n",
       "      <td>2.000000</td>\n",
       "      <td>4.000000</td>\n",
       "      <td>6.000000</td>\n",
       "      <td>6.000000</td>\n",
       "      <td>100.000000</td>\n",
       "    </tr>\n",
       "  </tbody>\n",
       "</table>\n",
       "</div>"
      ],
      "text/plain": [
       "              Sex  School Code  Playing Years  Playing Often  Playing Hours  \\\n",
       "count  754.000000   754.000000     754.000000     754.000000     754.000000   \n",
       "mean     0.509284     4.885942       1.618037       2.290451       1.519894   \n",
       "std      0.500246     2.993173       1.402897       1.915683       1.334098   \n",
       "min      0.000000     1.000000       0.000000       0.000000       0.000000   \n",
       "25%      0.000000     2.000000       0.000000       0.000000       0.000000   \n",
       "50%      1.000000     4.000000       1.000000       2.000000       1.000000   \n",
       "75%      1.000000     8.000000       3.000000       4.000000       2.000000   \n",
       "max      1.000000    11.000000       4.000000       5.000000       5.000000   \n",
       "\n",
       "       Playing Games  Parent Revenue  Father Education  Mother Education  \\\n",
       "count     754.000000      754.000000        754.000000        754.000000   \n",
       "mean        0.721485        1.867374          3.700265          3.385942   \n",
       "std         0.451516        1.049086          1.168568          1.165399   \n",
       "min         0.000000        0.000000          0.000000          0.000000   \n",
       "25%         0.000000        1.000000          3.000000          2.000000   \n",
       "50%         1.000000        2.000000          4.000000          3.000000   \n",
       "75%         1.000000        3.000000          4.000000          4.000000   \n",
       "max         2.000000        4.000000          6.000000          6.000000   \n",
       "\n",
       "            Grade  \n",
       "count  753.000000  \n",
       "mean    77.134834  \n",
       "std     16.415164  \n",
       "min     33.000000  \n",
       "25%     65.000000  \n",
       "50%     80.000000  \n",
       "75%     90.000000  \n",
       "max    100.000000  "
      ]
     },
     "execution_count": 8,
     "metadata": {},
     "output_type": "execute_result"
    }
   ],
   "source": [
    "df.describe()"
   ]
  },
  {
   "cell_type": "code",
   "execution_count": 9,
   "metadata": {},
   "outputs": [
    {
     "name": "stdout",
     "output_type": "stream",
     "text": [
      "<class 'pandas.core.frame.DataFrame'>\n",
      "Index: 754 entries, 0 to 769\n",
      "Data columns (total 10 columns):\n",
      " #   Column            Non-Null Count  Dtype  \n",
      "---  ------            --------------  -----  \n",
      " 0   Sex               754 non-null    int64  \n",
      " 1   School Code       754 non-null    int64  \n",
      " 2   Playing Years     754 non-null    int64  \n",
      " 3   Playing Often     754 non-null    int64  \n",
      " 4   Playing Hours     754 non-null    int64  \n",
      " 5   Playing Games     754 non-null    int64  \n",
      " 6   Parent Revenue    754 non-null    int64  \n",
      " 7   Father Education  754 non-null    int64  \n",
      " 8   Mother Education  754 non-null    int64  \n",
      " 9   Grade             753 non-null    float64\n",
      "dtypes: float64(1), int64(9)\n",
      "memory usage: 64.8 KB\n"
     ]
    }
   ],
   "source": [
    "df.info()"
   ]
  },
  {
   "cell_type": "code",
   "execution_count": 10,
   "metadata": {},
   "outputs": [
    {
     "data": {
      "text/plain": [
       "Sex                 0\n",
       "School Code         0\n",
       "Playing Years       0\n",
       "Playing Often       0\n",
       "Playing Hours       0\n",
       "Playing Games       0\n",
       "Parent Revenue      0\n",
       "Father Education    0\n",
       "Mother Education    0\n",
       "Grade               1\n",
       "dtype: int64"
      ]
     },
     "execution_count": 10,
     "metadata": {},
     "output_type": "execute_result"
    }
   ],
   "source": [
    "df.isnull().sum()"
   ]
  },
  {
   "cell_type": "code",
   "execution_count": 11,
   "metadata": {},
   "outputs": [],
   "source": [
    "df.dropna(inplace=True)"
   ]
  },
  {
   "cell_type": "code",
   "execution_count": 12,
   "metadata": {},
   "outputs": [
    {
     "data": {
      "text/plain": [
       "Sex                 0\n",
       "School Code         0\n",
       "Playing Years       0\n",
       "Playing Often       0\n",
       "Playing Hours       0\n",
       "Playing Games       0\n",
       "Parent Revenue      0\n",
       "Father Education    0\n",
       "Mother Education    0\n",
       "Grade               0\n",
       "dtype: int64"
      ]
     },
     "execution_count": 12,
     "metadata": {},
     "output_type": "execute_result"
    }
   ],
   "source": [
    "df.isnull().sum()"
   ]
  },
  {
   "cell_type": "code",
   "execution_count": 13,
   "metadata": {},
   "outputs": [
    {
     "name": "stdout",
     "output_type": "stream",
     "text": [
      "Training Set:\n",
      "     Playing Hours\n",
      "593              3\n",
      "131              1\n",
      "44               3\n",
      "70               0\n",
      "588              2\n",
      "..             ...\n",
      "71               2\n",
      "106              0\n",
      "270              0\n",
      "439              2\n",
      "102              1\n",
      "\n",
      "[602 rows x 1 columns]\n",
      "593     87.00\n",
      "131     57.75\n",
      "44      69.00\n",
      "70      90.00\n",
      "588     60.00\n",
      "        ...  \n",
      "71      70.00\n",
      "106     72.50\n",
      "270     70.00\n",
      "439    100.00\n",
      "102     70.00\n",
      "Name: Grade, Length: 602, dtype: float64\n",
      "\n",
      "Testing Set:\n",
      "     Playing Hours\n",
      "732              0\n",
      "667              2\n",
      "374              2\n",
      "77               2\n",
      "212              1\n",
      "..             ...\n",
      "333              2\n",
      "90               0\n",
      "357              0\n",
      "668              0\n",
      "69               2\n",
      "\n",
      "[151 rows x 1 columns]\n",
      "732     70.5\n",
      "667     72.5\n",
      "374     55.0\n",
      "77      85.0\n",
      "212     55.0\n",
      "       ...  \n",
      "333     92.5\n",
      "90     100.0\n",
      "357     70.0\n",
      "668     46.5\n",
      "69      65.0\n",
      "Name: Grade, Length: 151, dtype: float64\n"
     ]
    }
   ],
   "source": [
    "# Clean Grade column\n",
    "def clean_grade(grade):\n",
    "    if isinstance(grade, str):\n",
    "        grade = grade.strip().replace('..', '.')\n",
    "        try:\n",
    "            return float(grade)\n",
    "        except ValueError:\n",
    "            return None\n",
    "    return grade\n",
    "\n",
    "df['Grade'] = df['Grade'].apply(clean_grade)\n",
    "df = df.dropna(subset=['Grade'])\n",
    "\n",
    "# Define feature and target\n",
    "X = df[[\"Playing Hours\"]]  # Feature (independent variable)\n",
    "Y = df[\"Grade\"]  # Target (dependent variable)\n",
    "\n",
    "# Split data\n",
    "X_train, X_test, Y_train, Y_test = train_test_split(X, Y, test_size=0.2, random_state=42)\n",
    "\n",
    "print(\"Training Set:\")\n",
    "print(X_train)\n",
    "print(Y_train)\n",
    "\n",
    "print(\"\\nTesting Set:\")\n",
    "print(X_test)\n",
    "print(Y_test)"
   ]
  },
  {
   "cell_type": "code",
   "execution_count": 14,
   "metadata": {},
   "outputs": [
    {
     "name": "stdout",
     "output_type": "stream",
     "text": [
      "Intercept (b): 79.04\n",
      "Coefficient (m): -1.20\n"
     ]
    }
   ],
   "source": [
    "model = LinearRegression()\n",
    "model.fit(X_train, Y_train)\n",
    "\n",
    "print(f\"Intercept (b): {model.intercept_:.2f}\")  \n",
    "print(f\"Coefficient (m): {model.coef_[0]:.2f}\") \n",
    "\n",
    "Y_pred = model.predict(X_test)"
   ]
  },
  {
   "cell_type": "code",
   "execution_count": 15,
   "metadata": {},
   "outputs": [
    {
     "data": {
      "image/png": "[encoded data removed]",
      "text/plain": [
       "<Figure size 800x600 with 1 Axes>"
      ]
     },
     "metadata": {},
     "output_type": "display_data"
    }
   ],
   "source": [
    "plt.figure(figsize=(8,6))\n",
    "\n",
    "# Scatter plot of actual values\n",
    "sns.scatterplot(x=X_test[\"Playing Hours\"], y=Y_test, color=\"blue\", label=\"Actual\")\n",
    "\n",
    "# Scatter plot of predicted values\n",
    "sns.scatterplot(x=X_test[\"Playing Hours\"], y=Y_pred, color=\"red\", label=\"Predicted\")\n",
    "\n",
    "# Regression line \n",
    "X_line = pd.DataFrame(np.linspace(X_test[\"Playing Hours\"].min(), X_test[\"Playing Hours\"].max(), 100), columns=[\"Playing Hours\"])\n",
    "Y_line = model.predict(X_line)\n",
    "plt.plot(X_line[\"Playing Hours\"], Y_line, color='green', label='Regression Line')\n",
    "\n",
    "plt.xlabel(\"Playing Hours\")\n",
    "plt.ylabel(\"Grade\")\n",
    "plt.title(\"Actual vs Predicted Values\")\n",
    "plt.legend()\n",
    "plt.grid(True, alpha=0.6)\n",
    "plt.show()"
   ]
  },
  {
   "cell_type": "code",
   "execution_count": 16,
   "metadata": {},
   "outputs": [
    {
     "name": "stdout",
     "output_type": "stream",
     "text": [
      "Mean Squared Error (MSE): 282.25\n",
      "R² Score: 0.04\n"
     ]
    }
   ],
   "source": [
    "# Metrics\n",
    "mse = mean_squared_error(Y_test, Y_pred)\n",
    "r2 = r2_score(Y_test, Y_pred)\n",
    "\n",
    "print(f\"Mean Squared Error (MSE): {mse:.2f}\")\n",
    "print(f\"R² Score: {r2:.2f}\")"
   ]
  }
 ],
 "metadata": {
  "kernelspec": {
   "display_name": "venv",
   "language": "python",
   "name": "python3"
  },
  "language_info": {
   "codemirror_mode": {
    "name": "ipython",
    "version": 3
   },
   "file_extension": ".py",
   "mimetype": "text/x-python",
   "name": "python",
   "nbconvert_exporter": "python",
   "pygments_lexer": "ipython3",
   "version": "3.10.6"
  }
 },
 "nbformat": 4,
 "nbformat_minor": 2
}
